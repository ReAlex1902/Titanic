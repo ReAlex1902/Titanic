{
 "cells": [
  {
   "cell_type": "code",
   "execution_count": 1,
   "metadata": {},
   "outputs": [],
   "source": [
    "import pandas as pd\n",
    "import numpy as np\n",
    "from sklearn.linear_model import LogisticRegression\n",
    "from sklearn.model_selection import train_test_split, GridSearchCV\n",
    "from sklearn.preprocessing import StandardScaler\n",
    "from sklearn.ensemble import RandomForestClassifier"
   ]
  },
  {
   "cell_type": "markdown",
   "metadata": {},
   "source": [
    "# Reading and normalizing data"
   ]
  },
  {
   "cell_type": "code",
   "execution_count": 2,
   "metadata": {},
   "outputs": [],
   "source": [
    "data = pd.read_csv(\"train.csv\")\n",
    "names = data[\"Name\"]\n",
    "ids = data[\"PassengerId\"]\n",
    "data = data.drop([\"Name\", \"PassengerId\"], axis = 1)\n",
    "data[\"Sex\"] = data[\"Sex\"].map({\"male\": 1, \"female\": 0})\n",
    "data[\"Embarked\"] = data[\"Embarked\"].map({\"S\": 0, \"C\": 1, \"Q\": 2})\n",
    "data = data.fillna(-1)"
   ]
  },
  {
   "cell_type": "code",
   "execution_count": 3,
   "metadata": {},
   "outputs": [
    {
     "data": {
      "text/html": [
       "<div>\n",
       "<style scoped>\n",
       "    .dataframe tbody tr th:only-of-type {\n",
       "        vertical-align: middle;\n",
       "    }\n",
       "\n",
       "    .dataframe tbody tr th {\n",
       "        vertical-align: top;\n",
       "    }\n",
       "\n",
       "    .dataframe thead th {\n",
       "        text-align: right;\n",
       "    }\n",
       "</style>\n",
       "<table border=\"1\" class=\"dataframe\">\n",
       "  <thead>\n",
       "    <tr style=\"text-align: right;\">\n",
       "      <th></th>\n",
       "      <th>Survived</th>\n",
       "      <th>Pclass</th>\n",
       "      <th>Sex</th>\n",
       "      <th>Age</th>\n",
       "      <th>SibSp</th>\n",
       "      <th>Parch</th>\n",
       "      <th>Fare</th>\n",
       "      <th>Embarked</th>\n",
       "      <th>Ticket_110152</th>\n",
       "      <th>Ticket_110413</th>\n",
       "      <th>...</th>\n",
       "      <th>Cabin_E8</th>\n",
       "      <th>Cabin_F E69</th>\n",
       "      <th>Cabin_F G63</th>\n",
       "      <th>Cabin_F G73</th>\n",
       "      <th>Cabin_F2</th>\n",
       "      <th>Cabin_F33</th>\n",
       "      <th>Cabin_F38</th>\n",
       "      <th>Cabin_F4</th>\n",
       "      <th>Cabin_G6</th>\n",
       "      <th>Cabin_T</th>\n",
       "    </tr>\n",
       "  </thead>\n",
       "  <tbody>\n",
       "    <tr>\n",
       "      <th>0</th>\n",
       "      <td>0</td>\n",
       "      <td>3</td>\n",
       "      <td>1</td>\n",
       "      <td>22.0</td>\n",
       "      <td>1</td>\n",
       "      <td>0</td>\n",
       "      <td>7.2500</td>\n",
       "      <td>0.0</td>\n",
       "      <td>0</td>\n",
       "      <td>0</td>\n",
       "      <td>...</td>\n",
       "      <td>0</td>\n",
       "      <td>0</td>\n",
       "      <td>0</td>\n",
       "      <td>0</td>\n",
       "      <td>0</td>\n",
       "      <td>0</td>\n",
       "      <td>0</td>\n",
       "      <td>0</td>\n",
       "      <td>0</td>\n",
       "      <td>0</td>\n",
       "    </tr>\n",
       "    <tr>\n",
       "      <th>1</th>\n",
       "      <td>1</td>\n",
       "      <td>1</td>\n",
       "      <td>0</td>\n",
       "      <td>38.0</td>\n",
       "      <td>1</td>\n",
       "      <td>0</td>\n",
       "      <td>71.2833</td>\n",
       "      <td>1.0</td>\n",
       "      <td>0</td>\n",
       "      <td>0</td>\n",
       "      <td>...</td>\n",
       "      <td>0</td>\n",
       "      <td>0</td>\n",
       "      <td>0</td>\n",
       "      <td>0</td>\n",
       "      <td>0</td>\n",
       "      <td>0</td>\n",
       "      <td>0</td>\n",
       "      <td>0</td>\n",
       "      <td>0</td>\n",
       "      <td>0</td>\n",
       "    </tr>\n",
       "    <tr>\n",
       "      <th>2</th>\n",
       "      <td>1</td>\n",
       "      <td>3</td>\n",
       "      <td>0</td>\n",
       "      <td>26.0</td>\n",
       "      <td>0</td>\n",
       "      <td>0</td>\n",
       "      <td>7.9250</td>\n",
       "      <td>0.0</td>\n",
       "      <td>0</td>\n",
       "      <td>0</td>\n",
       "      <td>...</td>\n",
       "      <td>0</td>\n",
       "      <td>0</td>\n",
       "      <td>0</td>\n",
       "      <td>0</td>\n",
       "      <td>0</td>\n",
       "      <td>0</td>\n",
       "      <td>0</td>\n",
       "      <td>0</td>\n",
       "      <td>0</td>\n",
       "      <td>0</td>\n",
       "    </tr>\n",
       "    <tr>\n",
       "      <th>3</th>\n",
       "      <td>1</td>\n",
       "      <td>1</td>\n",
       "      <td>0</td>\n",
       "      <td>35.0</td>\n",
       "      <td>1</td>\n",
       "      <td>0</td>\n",
       "      <td>53.1000</td>\n",
       "      <td>0.0</td>\n",
       "      <td>0</td>\n",
       "      <td>0</td>\n",
       "      <td>...</td>\n",
       "      <td>0</td>\n",
       "      <td>0</td>\n",
       "      <td>0</td>\n",
       "      <td>0</td>\n",
       "      <td>0</td>\n",
       "      <td>0</td>\n",
       "      <td>0</td>\n",
       "      <td>0</td>\n",
       "      <td>0</td>\n",
       "      <td>0</td>\n",
       "    </tr>\n",
       "    <tr>\n",
       "      <th>4</th>\n",
       "      <td>0</td>\n",
       "      <td>3</td>\n",
       "      <td>1</td>\n",
       "      <td>35.0</td>\n",
       "      <td>0</td>\n",
       "      <td>0</td>\n",
       "      <td>8.0500</td>\n",
       "      <td>0.0</td>\n",
       "      <td>0</td>\n",
       "      <td>0</td>\n",
       "      <td>...</td>\n",
       "      <td>0</td>\n",
       "      <td>0</td>\n",
       "      <td>0</td>\n",
       "      <td>0</td>\n",
       "      <td>0</td>\n",
       "      <td>0</td>\n",
       "      <td>0</td>\n",
       "      <td>0</td>\n",
       "      <td>0</td>\n",
       "      <td>0</td>\n",
       "    </tr>\n",
       "    <tr>\n",
       "      <th>...</th>\n",
       "      <td>...</td>\n",
       "      <td>...</td>\n",
       "      <td>...</td>\n",
       "      <td>...</td>\n",
       "      <td>...</td>\n",
       "      <td>...</td>\n",
       "      <td>...</td>\n",
       "      <td>...</td>\n",
       "      <td>...</td>\n",
       "      <td>...</td>\n",
       "      <td>...</td>\n",
       "      <td>...</td>\n",
       "      <td>...</td>\n",
       "      <td>...</td>\n",
       "      <td>...</td>\n",
       "      <td>...</td>\n",
       "      <td>...</td>\n",
       "      <td>...</td>\n",
       "      <td>...</td>\n",
       "      <td>...</td>\n",
       "      <td>...</td>\n",
       "    </tr>\n",
       "    <tr>\n",
       "      <th>886</th>\n",
       "      <td>0</td>\n",
       "      <td>2</td>\n",
       "      <td>1</td>\n",
       "      <td>27.0</td>\n",
       "      <td>0</td>\n",
       "      <td>0</td>\n",
       "      <td>13.0000</td>\n",
       "      <td>0.0</td>\n",
       "      <td>0</td>\n",
       "      <td>0</td>\n",
       "      <td>...</td>\n",
       "      <td>0</td>\n",
       "      <td>0</td>\n",
       "      <td>0</td>\n",
       "      <td>0</td>\n",
       "      <td>0</td>\n",
       "      <td>0</td>\n",
       "      <td>0</td>\n",
       "      <td>0</td>\n",
       "      <td>0</td>\n",
       "      <td>0</td>\n",
       "    </tr>\n",
       "    <tr>\n",
       "      <th>887</th>\n",
       "      <td>1</td>\n",
       "      <td>1</td>\n",
       "      <td>0</td>\n",
       "      <td>19.0</td>\n",
       "      <td>0</td>\n",
       "      <td>0</td>\n",
       "      <td>30.0000</td>\n",
       "      <td>0.0</td>\n",
       "      <td>0</td>\n",
       "      <td>0</td>\n",
       "      <td>...</td>\n",
       "      <td>0</td>\n",
       "      <td>0</td>\n",
       "      <td>0</td>\n",
       "      <td>0</td>\n",
       "      <td>0</td>\n",
       "      <td>0</td>\n",
       "      <td>0</td>\n",
       "      <td>0</td>\n",
       "      <td>0</td>\n",
       "      <td>0</td>\n",
       "    </tr>\n",
       "    <tr>\n",
       "      <th>888</th>\n",
       "      <td>0</td>\n",
       "      <td>3</td>\n",
       "      <td>0</td>\n",
       "      <td>-1.0</td>\n",
       "      <td>1</td>\n",
       "      <td>2</td>\n",
       "      <td>23.4500</td>\n",
       "      <td>0.0</td>\n",
       "      <td>0</td>\n",
       "      <td>0</td>\n",
       "      <td>...</td>\n",
       "      <td>0</td>\n",
       "      <td>0</td>\n",
       "      <td>0</td>\n",
       "      <td>0</td>\n",
       "      <td>0</td>\n",
       "      <td>0</td>\n",
       "      <td>0</td>\n",
       "      <td>0</td>\n",
       "      <td>0</td>\n",
       "      <td>0</td>\n",
       "    </tr>\n",
       "    <tr>\n",
       "      <th>889</th>\n",
       "      <td>1</td>\n",
       "      <td>1</td>\n",
       "      <td>1</td>\n",
       "      <td>26.0</td>\n",
       "      <td>0</td>\n",
       "      <td>0</td>\n",
       "      <td>30.0000</td>\n",
       "      <td>1.0</td>\n",
       "      <td>0</td>\n",
       "      <td>0</td>\n",
       "      <td>...</td>\n",
       "      <td>0</td>\n",
       "      <td>0</td>\n",
       "      <td>0</td>\n",
       "      <td>0</td>\n",
       "      <td>0</td>\n",
       "      <td>0</td>\n",
       "      <td>0</td>\n",
       "      <td>0</td>\n",
       "      <td>0</td>\n",
       "      <td>0</td>\n",
       "    </tr>\n",
       "    <tr>\n",
       "      <th>890</th>\n",
       "      <td>0</td>\n",
       "      <td>3</td>\n",
       "      <td>1</td>\n",
       "      <td>32.0</td>\n",
       "      <td>0</td>\n",
       "      <td>0</td>\n",
       "      <td>7.7500</td>\n",
       "      <td>2.0</td>\n",
       "      <td>0</td>\n",
       "      <td>0</td>\n",
       "      <td>...</td>\n",
       "      <td>0</td>\n",
       "      <td>0</td>\n",
       "      <td>0</td>\n",
       "      <td>0</td>\n",
       "      <td>0</td>\n",
       "      <td>0</td>\n",
       "      <td>0</td>\n",
       "      <td>0</td>\n",
       "      <td>0</td>\n",
       "      <td>0</td>\n",
       "    </tr>\n",
       "  </tbody>\n",
       "</table>\n",
       "<p>891 rows × 837 columns</p>\n",
       "</div>"
      ],
      "text/plain": [
       "     Survived  Pclass  Sex   Age  SibSp  Parch     Fare  Embarked  \\\n",
       "0           0       3    1  22.0      1      0   7.2500       0.0   \n",
       "1           1       1    0  38.0      1      0  71.2833       1.0   \n",
       "2           1       3    0  26.0      0      0   7.9250       0.0   \n",
       "3           1       1    0  35.0      1      0  53.1000       0.0   \n",
       "4           0       3    1  35.0      0      0   8.0500       0.0   \n",
       "..        ...     ...  ...   ...    ...    ...      ...       ...   \n",
       "886         0       2    1  27.0      0      0  13.0000       0.0   \n",
       "887         1       1    0  19.0      0      0  30.0000       0.0   \n",
       "888         0       3    0  -1.0      1      2  23.4500       0.0   \n",
       "889         1       1    1  26.0      0      0  30.0000       1.0   \n",
       "890         0       3    1  32.0      0      0   7.7500       2.0   \n",
       "\n",
       "     Ticket_110152  Ticket_110413  ...  Cabin_E8  Cabin_F E69  Cabin_F G63  \\\n",
       "0                0              0  ...         0            0            0   \n",
       "1                0              0  ...         0            0            0   \n",
       "2                0              0  ...         0            0            0   \n",
       "3                0              0  ...         0            0            0   \n",
       "4                0              0  ...         0            0            0   \n",
       "..             ...            ...  ...       ...          ...          ...   \n",
       "886              0              0  ...         0            0            0   \n",
       "887              0              0  ...         0            0            0   \n",
       "888              0              0  ...         0            0            0   \n",
       "889              0              0  ...         0            0            0   \n",
       "890              0              0  ...         0            0            0   \n",
       "\n",
       "     Cabin_F G73  Cabin_F2  Cabin_F33  Cabin_F38  Cabin_F4  Cabin_G6  Cabin_T  \n",
       "0              0         0          0          0         0         0        0  \n",
       "1              0         0          0          0         0         0        0  \n",
       "2              0         0          0          0         0         0        0  \n",
       "3              0         0          0          0         0         0        0  \n",
       "4              0         0          0          0         0         0        0  \n",
       "..           ...       ...        ...        ...       ...       ...      ...  \n",
       "886            0         0          0          0         0         0        0  \n",
       "887            0         0          0          0         0         0        0  \n",
       "888            0         0          0          0         0         0        0  \n",
       "889            0         0          0          0         0         0        0  \n",
       "890            0         0          0          0         0         0        0  \n",
       "\n",
       "[891 rows x 837 columns]"
      ]
     },
     "execution_count": 3,
     "metadata": {},
     "output_type": "execute_result"
    }
   ],
   "source": [
    "data = pd.get_dummies(data)\n",
    "data"
   ]
  },
  {
   "cell_type": "code",
   "execution_count": 4,
   "metadata": {},
   "outputs": [],
   "source": [
    "y = data[\"Survived\"]\n",
    "data = data.drop(\"Survived\", axis = 1)\n",
    "X_train, X_test, y_train, y_test = train_test_split(data, y, test_size = 0.22, random_state = 11)"
   ]
  },
  {
   "cell_type": "markdown",
   "metadata": {},
   "source": [
    "# Logistic Regression"
   ]
  },
  {
   "cell_type": "markdown",
   "metadata": {},
   "source": [
    "## Logistic Regression without scaling"
   ]
  },
  {
   "cell_type": "code",
   "execution_count": 5,
   "metadata": {},
   "outputs": [],
   "source": [
    "logit = LogisticRegression(class_weight = \"balanced\", solver = \"lbfgs\", random_state = 11, verbose = True, n_jobs = -1)"
   ]
  },
  {
   "cell_type": "code",
   "execution_count": 6,
   "metadata": {},
   "outputs": [],
   "source": [
    "params = {\n",
    "    \"C\": [1.0, 0.1, 0.01, 0.001, 0.0001],\n",
    "}\n",
    "best_logit = GridSearchCV(logit, params, scoring = \"accuracy\", verbose = 10)"
   ]
  },
  {
   "cell_type": "code",
   "execution_count": 7,
   "metadata": {
    "scrolled": true
   },
   "outputs": [
    {
     "name": "stdout",
     "output_type": "stream",
     "text": [
      "Fitting 5 folds for each of 5 candidates, totalling 25 fits\n",
      "[CV] C=1.0 ...........................................................\n"
     ]
    },
    {
     "name": "stderr",
     "output_type": "stream",
     "text": [
      "[Parallel(n_jobs=1)]: Using backend SequentialBackend with 1 concurrent workers.\n",
      "[Parallel(n_jobs=-1)]: Using backend LokyBackend with 8 concurrent workers.\n",
      "[Parallel(n_jobs=-1)]: Done   1 out of   1 | elapsed:    2.3s finished\n",
      "[Parallel(n_jobs=1)]: Done   1 out of   1 | elapsed:    2.3s remaining:    0.0s\n",
      "[Parallel(n_jobs=-1)]: Using backend LokyBackend with 8 concurrent workers.\n"
     ]
    },
    {
     "name": "stdout",
     "output_type": "stream",
     "text": [
      "[CV] ............................... C=1.0, score=0.741, total=   2.4s\n",
      "[CV] C=1.0 ...........................................................\n"
     ]
    },
    {
     "name": "stderr",
     "output_type": "stream",
     "text": [
      "[Parallel(n_jobs=-1)]: Done   1 out of   1 | elapsed:    1.8s finished\n",
      "[Parallel(n_jobs=1)]: Done   2 out of   2 | elapsed:    4.3s remaining:    0.0s\n",
      "[Parallel(n_jobs=-1)]: Using backend LokyBackend with 8 concurrent workers.\n"
     ]
    },
    {
     "name": "stdout",
     "output_type": "stream",
     "text": [
      "[CV] ............................... C=1.0, score=0.799, total=   1.9s\n",
      "[CV] C=1.0 ...........................................................\n"
     ]
    },
    {
     "name": "stderr",
     "output_type": "stream",
     "text": [
      "[Parallel(n_jobs=-1)]: Done   1 out of   1 | elapsed:    1.4s finished\n",
      "[Parallel(n_jobs=1)]: Done   3 out of   3 | elapsed:    5.8s remaining:    0.0s\n",
      "[Parallel(n_jobs=-1)]: Using backend LokyBackend with 8 concurrent workers.\n"
     ]
    },
    {
     "name": "stdout",
     "output_type": "stream",
     "text": [
      "[CV] ............................... C=1.0, score=0.820, total=   1.5s\n",
      "[CV] C=1.0 ...........................................................\n"
     ]
    },
    {
     "name": "stderr",
     "output_type": "stream",
     "text": [
      "[Parallel(n_jobs=-1)]: Done   1 out of   1 | elapsed:    1.3s finished\n",
      "[Parallel(n_jobs=1)]: Done   4 out of   4 | elapsed:    7.2s remaining:    0.0s\n",
      "[Parallel(n_jobs=-1)]: Using backend LokyBackend with 8 concurrent workers.\n"
     ]
    },
    {
     "name": "stdout",
     "output_type": "stream",
     "text": [
      "[CV] ............................... C=1.0, score=0.799, total=   1.4s\n",
      "[CV] C=1.0 ...........................................................\n"
     ]
    },
    {
     "name": "stderr",
     "output_type": "stream",
     "text": [
      "[Parallel(n_jobs=-1)]: Done   1 out of   1 | elapsed:    1.4s finished\n",
      "[Parallel(n_jobs=1)]: Done   5 out of   5 | elapsed:    8.7s remaining:    0.0s\n",
      "[Parallel(n_jobs=-1)]: Using backend LokyBackend with 8 concurrent workers.\n"
     ]
    },
    {
     "name": "stdout",
     "output_type": "stream",
     "text": [
      "[CV] ............................... C=1.0, score=0.725, total=   1.5s\n",
      "[CV] C=0.1 ...........................................................\n"
     ]
    },
    {
     "name": "stderr",
     "output_type": "stream",
     "text": [
      "[Parallel(n_jobs=-1)]: Done   1 out of   1 | elapsed:    1.0s finished\n",
      "[Parallel(n_jobs=1)]: Done   6 out of   6 | elapsed:    9.8s remaining:    0.0s\n",
      "[Parallel(n_jobs=-1)]: Using backend LokyBackend with 8 concurrent workers.\n"
     ]
    },
    {
     "name": "stdout",
     "output_type": "stream",
     "text": [
      "[CV] ............................... C=0.1, score=0.719, total=   1.1s\n",
      "[CV] C=0.1 ...........................................................\n"
     ]
    },
    {
     "name": "stderr",
     "output_type": "stream",
     "text": [
      "[Parallel(n_jobs=-1)]: Done   1 out of   1 | elapsed:    1.0s finished\n",
      "[Parallel(n_jobs=1)]: Done   7 out of   7 | elapsed:   10.9s remaining:    0.0s\n",
      "[Parallel(n_jobs=-1)]: Using backend LokyBackend with 8 concurrent workers.\n"
     ]
    },
    {
     "name": "stdout",
     "output_type": "stream",
     "text": [
      "[CV] ............................... C=0.1, score=0.777, total=   1.1s\n",
      "[CV] C=0.1 ...........................................................\n"
     ]
    },
    {
     "name": "stderr",
     "output_type": "stream",
     "text": [
      "[Parallel(n_jobs=-1)]: Done   1 out of   1 | elapsed:    1.0s finished\n",
      "[Parallel(n_jobs=1)]: Done   8 out of   8 | elapsed:   12.0s remaining:    0.0s\n",
      "[Parallel(n_jobs=-1)]: Using backend LokyBackend with 8 concurrent workers.\n"
     ]
    },
    {
     "name": "stdout",
     "output_type": "stream",
     "text": [
      "[CV] ............................... C=0.1, score=0.791, total=   1.1s\n",
      "[CV] C=0.1 ...........................................................\n"
     ]
    },
    {
     "name": "stderr",
     "output_type": "stream",
     "text": [
      "[Parallel(n_jobs=-1)]: Done   1 out of   1 | elapsed:    0.6s finished\n",
      "[Parallel(n_jobs=1)]: Done   9 out of   9 | elapsed:   12.8s remaining:    0.0s\n",
      "[Parallel(n_jobs=-1)]: Using backend LokyBackend with 8 concurrent workers.\n"
     ]
    },
    {
     "name": "stdout",
     "output_type": "stream",
     "text": [
      "[CV] ............................... C=0.1, score=0.784, total=   0.7s\n",
      "[CV] C=0.1 ...........................................................\n"
     ]
    },
    {
     "name": "stderr",
     "output_type": "stream",
     "text": [
      "[Parallel(n_jobs=-1)]: Done   1 out of   1 | elapsed:    0.6s finished\n",
      "[Parallel(n_jobs=-1)]: Using backend LokyBackend with 8 concurrent workers.\n"
     ]
    },
    {
     "name": "stdout",
     "output_type": "stream",
     "text": [
      "[CV] ............................... C=0.1, score=0.739, total=   0.7s\n",
      "[CV] C=0.01 ..........................................................\n"
     ]
    },
    {
     "name": "stderr",
     "output_type": "stream",
     "text": [
      "[Parallel(n_jobs=-1)]: Done   1 out of   1 | elapsed:    0.5s finished\n",
      "[Parallel(n_jobs=-1)]: Using backend LokyBackend with 8 concurrent workers.\n"
     ]
    },
    {
     "name": "stdout",
     "output_type": "stream",
     "text": [
      "[CV] .............................. C=0.01, score=0.719, total=   0.6s\n",
      "[CV] C=0.01 ..........................................................\n"
     ]
    },
    {
     "name": "stderr",
     "output_type": "stream",
     "text": [
      "[Parallel(n_jobs=-1)]: Done   1 out of   1 | elapsed:    0.5s finished\n",
      "[Parallel(n_jobs=-1)]: Using backend LokyBackend with 8 concurrent workers.\n"
     ]
    },
    {
     "name": "stdout",
     "output_type": "stream",
     "text": [
      "[CV] .............................. C=0.01, score=0.806, total=   0.6s\n",
      "[CV] C=0.01 ..........................................................\n"
     ]
    },
    {
     "name": "stderr",
     "output_type": "stream",
     "text": [
      "[Parallel(n_jobs=-1)]: Done   1 out of   1 | elapsed:    0.6s finished\n",
      "[Parallel(n_jobs=-1)]: Using backend LokyBackend with 8 concurrent workers.\n"
     ]
    },
    {
     "name": "stdout",
     "output_type": "stream",
     "text": [
      "[CV] .............................. C=0.01, score=0.763, total=   0.7s\n",
      "[CV] C=0.01 ..........................................................\n"
     ]
    },
    {
     "name": "stderr",
     "output_type": "stream",
     "text": [
      "[Parallel(n_jobs=-1)]: Done   1 out of   1 | elapsed:    0.4s finished\n",
      "[Parallel(n_jobs=-1)]: Using backend LokyBackend with 8 concurrent workers.\n"
     ]
    },
    {
     "name": "stdout",
     "output_type": "stream",
     "text": [
      "[CV] .............................. C=0.01, score=0.755, total=   0.6s\n",
      "[CV] C=0.01 ..........................................................\n"
     ]
    },
    {
     "name": "stderr",
     "output_type": "stream",
     "text": [
      "[Parallel(n_jobs=-1)]: Done   1 out of   1 | elapsed:    0.5s finished\n",
      "[Parallel(n_jobs=-1)]: Using backend LokyBackend with 8 concurrent workers.\n"
     ]
    },
    {
     "name": "stdout",
     "output_type": "stream",
     "text": [
      "[CV] .............................. C=0.01, score=0.768, total=   0.6s\n",
      "[CV] C=0.001 .........................................................\n"
     ]
    },
    {
     "name": "stderr",
     "output_type": "stream",
     "text": [
      "[Parallel(n_jobs=-1)]: Done   1 out of   1 | elapsed:    0.2s finished\n",
      "[Parallel(n_jobs=-1)]: Using backend LokyBackend with 8 concurrent workers.\n"
     ]
    },
    {
     "name": "stdout",
     "output_type": "stream",
     "text": [
      "[CV] ............................. C=0.001, score=0.662, total=   0.3s\n",
      "[CV] C=0.001 .........................................................\n"
     ]
    },
    {
     "name": "stderr",
     "output_type": "stream",
     "text": [
      "[Parallel(n_jobs=-1)]: Done   1 out of   1 | elapsed:    0.2s finished\n",
      "[Parallel(n_jobs=-1)]: Using backend LokyBackend with 8 concurrent workers.\n"
     ]
    },
    {
     "name": "stdout",
     "output_type": "stream",
     "text": [
      "[CV] ............................. C=0.001, score=0.712, total=   0.3s\n",
      "[CV] C=0.001 .........................................................\n"
     ]
    },
    {
     "name": "stderr",
     "output_type": "stream",
     "text": [
      "[Parallel(n_jobs=-1)]: Done   1 out of   1 | elapsed:    0.2s finished\n",
      "[Parallel(n_jobs=-1)]: Using backend LokyBackend with 8 concurrent workers.\n"
     ]
    },
    {
     "name": "stdout",
     "output_type": "stream",
     "text": [
      "[CV] ............................. C=0.001, score=0.619, total=   0.3s\n",
      "[CV] C=0.001 .........................................................\n"
     ]
    },
    {
     "name": "stderr",
     "output_type": "stream",
     "text": [
      "[Parallel(n_jobs=-1)]: Done   1 out of   1 | elapsed:    0.2s finished\n",
      "[Parallel(n_jobs=-1)]: Using backend LokyBackend with 8 concurrent workers.\n"
     ]
    },
    {
     "name": "stdout",
     "output_type": "stream",
     "text": [
      "[CV] ............................. C=0.001, score=0.662, total=   0.3s\n",
      "[CV] C=0.001 .........................................................\n"
     ]
    },
    {
     "name": "stderr",
     "output_type": "stream",
     "text": [
      "[Parallel(n_jobs=-1)]: Done   1 out of   1 | elapsed:    0.4s finished\n",
      "[Parallel(n_jobs=-1)]: Using backend LokyBackend with 8 concurrent workers.\n"
     ]
    },
    {
     "name": "stdout",
     "output_type": "stream",
     "text": [
      "[CV] ............................. C=0.001, score=0.681, total=   0.5s\n",
      "[CV] C=0.0001 ........................................................\n"
     ]
    },
    {
     "name": "stderr",
     "output_type": "stream",
     "text": [
      "[Parallel(n_jobs=-1)]: Done   1 out of   1 | elapsed:    0.2s finished\n",
      "[Parallel(n_jobs=-1)]: Using backend LokyBackend with 8 concurrent workers.\n"
     ]
    },
    {
     "name": "stdout",
     "output_type": "stream",
     "text": [
      "[CV] ............................ C=0.0001, score=0.626, total=   0.3s\n",
      "[CV] C=0.0001 ........................................................\n"
     ]
    },
    {
     "name": "stderr",
     "output_type": "stream",
     "text": [
      "[Parallel(n_jobs=-1)]: Done   1 out of   1 | elapsed:    0.2s finished\n",
      "[Parallel(n_jobs=-1)]: Using backend LokyBackend with 8 concurrent workers.\n"
     ]
    },
    {
     "name": "stdout",
     "output_type": "stream",
     "text": [
      "[CV] ............................ C=0.0001, score=0.669, total=   0.3s\n",
      "[CV] C=0.0001 ........................................................\n"
     ]
    },
    {
     "name": "stderr",
     "output_type": "stream",
     "text": [
      "[Parallel(n_jobs=-1)]: Done   1 out of   1 | elapsed:    0.2s finished\n",
      "[Parallel(n_jobs=-1)]: Using backend LokyBackend with 8 concurrent workers.\n"
     ]
    },
    {
     "name": "stdout",
     "output_type": "stream",
     "text": [
      "[CV] ............................ C=0.0001, score=0.590, total=   0.3s\n",
      "[CV] C=0.0001 ........................................................\n"
     ]
    },
    {
     "name": "stderr",
     "output_type": "stream",
     "text": [
      "[Parallel(n_jobs=-1)]: Done   1 out of   1 | elapsed:    0.2s finished\n",
      "[Parallel(n_jobs=-1)]: Using backend LokyBackend with 8 concurrent workers.\n"
     ]
    },
    {
     "name": "stdout",
     "output_type": "stream",
     "text": [
      "[CV] ............................ C=0.0001, score=0.640, total=   0.3s\n",
      "[CV] C=0.0001 ........................................................\n"
     ]
    },
    {
     "name": "stderr",
     "output_type": "stream",
     "text": [
      "[Parallel(n_jobs=-1)]: Done   1 out of   1 | elapsed:    0.2s finished\n",
      "[Parallel(n_jobs=1)]: Done  25 out of  25 | elapsed:   19.7s finished\n",
      "[Parallel(n_jobs=-1)]: Using backend LokyBackend with 8 concurrent workers.\n"
     ]
    },
    {
     "name": "stdout",
     "output_type": "stream",
     "text": [
      "[CV] ............................ C=0.0001, score=0.652, total=   0.3s\n"
     ]
    },
    {
     "name": "stderr",
     "output_type": "stream",
     "text": [
      "[Parallel(n_jobs=-1)]: Done   1 out of   1 | elapsed:    1.4s finished\n"
     ]
    },
    {
     "data": {
      "text/plain": [
       "GridSearchCV(cv=None, error_score=nan,\n",
       "             estimator=LogisticRegression(C=1.0, class_weight='balanced',\n",
       "                                          dual=False, fit_intercept=True,\n",
       "                                          intercept_scaling=1, l1_ratio=None,\n",
       "                                          max_iter=100, multi_class='auto',\n",
       "                                          n_jobs=-1, penalty='l2',\n",
       "                                          random_state=11, solver='lbfgs',\n",
       "                                          tol=0.0001, verbose=True,\n",
       "                                          warm_start=False),\n",
       "             iid='deprecated', n_jobs=None,\n",
       "             param_grid={'C': [1.0, 0.1, 0.01, 0.001, 0.0001]},\n",
       "             pre_dispatch='2*n_jobs', refit=True, return_train_score=False,\n",
       "             scoring='accuracy', verbose=10)"
      ]
     },
     "execution_count": 7,
     "metadata": {},
     "output_type": "execute_result"
    }
   ],
   "source": [
    "best_logit.fit(X_train, y_train)"
   ]
  },
  {
   "cell_type": "code",
   "execution_count": 8,
   "metadata": {},
   "outputs": [
    {
     "data": {
      "text/plain": [
       "0.8223350253807107"
      ]
     },
     "execution_count": 8,
     "metadata": {},
     "output_type": "execute_result"
    }
   ],
   "source": [
    "from sklearn.metrics import accuracy_score\n",
    "accuracy_score(best_logit.predict(X_test), y_test)"
   ]
  },
  {
   "cell_type": "code",
   "execution_count": 9,
   "metadata": {
    "scrolled": true
   },
   "outputs": [
    {
     "data": {
      "text/html": [
       "<div>\n",
       "<style scoped>\n",
       "    .dataframe tbody tr th:only-of-type {\n",
       "        vertical-align: middle;\n",
       "    }\n",
       "\n",
       "    .dataframe tbody tr th {\n",
       "        vertical-align: top;\n",
       "    }\n",
       "\n",
       "    .dataframe thead th {\n",
       "        text-align: right;\n",
       "    }\n",
       "</style>\n",
       "<table border=\"1\" class=\"dataframe\">\n",
       "  <thead>\n",
       "    <tr style=\"text-align: right;\">\n",
       "      <th></th>\n",
       "      <th>feature</th>\n",
       "      <th>coef</th>\n",
       "    </tr>\n",
       "  </thead>\n",
       "  <tbody>\n",
       "    <tr>\n",
       "      <th>87</th>\n",
       "      <td>Ticket_1601</td>\n",
       "      <td>1.598093</td>\n",
       "    </tr>\n",
       "    <tr>\n",
       "      <th>569</th>\n",
       "      <td>Ticket_C.A. 37671</td>\n",
       "      <td>0.973664</td>\n",
       "    </tr>\n",
       "    <tr>\n",
       "      <th>244</th>\n",
       "      <td>Ticket_29106</td>\n",
       "      <td>0.876958</td>\n",
       "    </tr>\n",
       "    <tr>\n",
       "      <th>351</th>\n",
       "      <td>Ticket_347742</td>\n",
       "      <td>0.841480</td>\n",
       "    </tr>\n",
       "    <tr>\n",
       "      <th>336</th>\n",
       "      <td>Ticket_347077</td>\n",
       "      <td>0.767198</td>\n",
       "    </tr>\n",
       "    <tr>\n",
       "      <th>...</th>\n",
       "      <td>...</td>\n",
       "      <td>...</td>\n",
       "    </tr>\n",
       "    <tr>\n",
       "      <th>340</th>\n",
       "      <td>Ticket_347082</td>\n",
       "      <td>-0.727368</td>\n",
       "    </tr>\n",
       "    <tr>\n",
       "      <th>402</th>\n",
       "      <td>Ticket_349909</td>\n",
       "      <td>-0.745565</td>\n",
       "    </tr>\n",
       "    <tr>\n",
       "      <th>344</th>\n",
       "      <td>Ticket_347088</td>\n",
       "      <td>-0.821938</td>\n",
       "    </tr>\n",
       "    <tr>\n",
       "      <th>0</th>\n",
       "      <td>Pclass</td>\n",
       "      <td>-1.190084</td>\n",
       "    </tr>\n",
       "    <tr>\n",
       "      <th>1</th>\n",
       "      <td>Sex</td>\n",
       "      <td>-2.443399</td>\n",
       "    </tr>\n",
       "  </tbody>\n",
       "</table>\n",
       "<p>836 rows × 2 columns</p>\n",
       "</div>"
      ],
      "text/plain": [
       "               feature      coef\n",
       "87         Ticket_1601  1.598093\n",
       "569  Ticket_C.A. 37671  0.973664\n",
       "244       Ticket_29106  0.876958\n",
       "351      Ticket_347742  0.841480\n",
       "336      Ticket_347077  0.767198\n",
       "..                 ...       ...\n",
       "340      Ticket_347082 -0.727368\n",
       "402      Ticket_349909 -0.745565\n",
       "344      Ticket_347088 -0.821938\n",
       "0               Pclass -1.190084\n",
       "1                  Sex -2.443399\n",
       "\n",
       "[836 rows x 2 columns]"
      ]
     },
     "execution_count": 9,
     "metadata": {},
     "output_type": "execute_result"
    }
   ],
   "source": [
    "pd.DataFrame({\"feature\": X_train.columns,\n",
    "             \"coef\": best_logit.best_estimator_.coef_.flatten()}).sort_values(by = \"coef\", ascending = False)"
   ]
  },
  {
   "cell_type": "markdown",
   "metadata": {},
   "source": [
    "## Logistic Regression with scaling"
   ]
  },
  {
   "cell_type": "code",
   "execution_count": 10,
   "metadata": {},
   "outputs": [],
   "source": [
    "logit = LogisticRegression(class_weight = \"balanced\", solver = \"lbfgs\", random_state = 11, verbose = True, n_jobs = -1)"
   ]
  },
  {
   "cell_type": "code",
   "execution_count": 11,
   "metadata": {},
   "outputs": [
    {
     "name": "stderr",
     "output_type": "stream",
     "text": [
      "[Parallel(n_jobs=-1)]: Using backend LokyBackend with 8 concurrent workers.\n",
      "[Parallel(n_jobs=-1)]: Done   1 out of   1 | elapsed:    0.8s finished\n"
     ]
    },
    {
     "data": {
      "text/plain": [
       "LogisticRegression(C=1.0, class_weight='balanced', dual=False,\n",
       "                   fit_intercept=True, intercept_scaling=1, l1_ratio=None,\n",
       "                   max_iter=100, multi_class='auto', n_jobs=-1, penalty='l2',\n",
       "                   random_state=11, solver='lbfgs', tol=0.0001, verbose=True,\n",
       "                   warm_start=False)"
      ]
     },
     "execution_count": 11,
     "metadata": {},
     "output_type": "execute_result"
    }
   ],
   "source": [
    "logit.fit(StandardScaler().fit_transform(X_train), y_train)"
   ]
  },
  {
   "cell_type": "code",
   "execution_count": 12,
   "metadata": {},
   "outputs": [
    {
     "data": {
      "text/plain": [
       "0.8578680203045685"
      ]
     },
     "execution_count": 12,
     "metadata": {},
     "output_type": "execute_result"
    }
   ],
   "source": [
    "accuracy_score(logit.predict(StandardScaler().fit_transform(X_test)), y_test)"
   ]
  },
  {
   "cell_type": "code",
   "execution_count": 34,
   "metadata": {},
   "outputs": [
    {
     "data": {
      "text/plain": [
       "array([[-0.64212105, -2.2365538 , -0.48366483, -0.25755919,  0.11823124,\n",
       "         0.24543499,  0.19317362,  0.09232079,  0.01284355, -0.07435293,\n",
       "         0.13592999,  0.0661425 , -0.06733111, -0.07338662,  0.04503768,\n",
       "         0.        ,  0.26673328,  0.24422799,  0.        ,  0.        ,\n",
       "         0.        ,  0.05419689,  0.        , -0.07351002,  0.13082059,\n",
       "        -0.14534847,  0.        ,  0.        , -0.07335398, -0.08428391,\n",
       "         0.14116758, -0.09265575, -0.11442824, -0.08023398, -0.1041762 ,\n",
       "         0.06771651, -0.07451698, -0.09332869, -0.06644098,  0.09629722,\n",
       "         0.21923702, -0.0944521 , -0.08265982,  0.05607368, -0.110222  ,\n",
       "         0.        , -0.07399424,  0.14131037, -0.06954938,  0.13002236,\n",
       "         0.03245186,  0.        ,  0.27582066, -0.13677283, -0.01615071,\n",
       "        -0.0877174 , -0.01119914,  0.26884263,  0.13190859, -0.08627756,\n",
       "        -0.08327121,  0.17332857,  0.0501702 ,  0.13875782,  0.06381935,\n",
       "         0.1258537 ,  0.04843585,  0.07280143, -0.07276844,  0.11256749,\n",
       "         0.05188729,  0.04912599, -0.08458211, -0.10532325,  0.0835704 ,\n",
       "        -0.08266363,  0.        ,  0.12725032,  0.09790407,  0.06349204,\n",
       "         0.        ,  0.        ,  0.0457093 ,  0.13023503,  0.        ,\n",
       "         0.13023503, -0.07281593,  0.47427976,  0.07322389,  0.11743883,\n",
       "         0.11759821,  0.04196942, -0.07147127,  0.04831778,  0.06637882,\n",
       "         0.06572272,  0.13341239, -0.07366116,  0.10387866, -0.02709038,\n",
       "         0.17331935,  0.1117618 , -0.0636326 ,  0.13980033, -0.10052666,\n",
       "         0.        ,  0.14153517,  0.15312411, -0.08962526, -0.05411714,\n",
       "        -0.08896241,  0.        , -0.08962526,  0.20696419, -0.07558221,\n",
       "         0.16223217,  0.04441608,  0.15977515,  0.1539525 ,  0.        ,\n",
       "         0.13330389,  0.        ,  0.13928167,  0.14819355,  0.13403815,\n",
       "         0.        , -0.09254636, -0.0918135 ,  0.        ,  0.1514915 ,\n",
       "        -0.09108235,  0.13198477, -0.09623571,  0.15979693,  0.        ,\n",
       "         0.        , -0.07570776,  0.14819355, -0.22043862,  0.04018234,\n",
       "         0.14543519,  0.31094637, -0.10886687, -0.10886687,  0.        ,\n",
       "        -0.10886687, -0.08548396,  0.14824366,  0.0626307 ,  0.        ,\n",
       "         0.15314573, -0.26552593,  0.30082851,  0.        ,  0.        ,\n",
       "        -0.09127292, -0.09108235, -0.08035344,  0.27160979,  0.14727855,\n",
       "         0.17027744, -0.08103649,  0.17321058, -0.07211638,  0.06841524,\n",
       "         0.33687578, -0.08889936, -0.23283965, -0.07341524,  0.20348433,\n",
       "        -0.08745293, -0.08458211,  0.14984076,  0.275249  , -0.23075766,\n",
       "         0.13090557, -0.08745293,  0.13898583,  0.30910383, -0.06803205,\n",
       "        -0.09697537,  0.28394934,  0.13920115, -0.28573494, -0.06442133,\n",
       "        -0.09697591,  0.        ,  0.19092081,  0.        , -0.09697537,\n",
       "        -0.08134414,  0.13920175,  0.        ,  0.30683119,  0.30828646,\n",
       "         0.15811481,  0.2891013 , -0.08676618,  0.30726212,  0.        ,\n",
       "        -0.32043255,  0.25369796,  0.15232218,  0.16015804,  0.        ,\n",
       "        -0.0734338 , -0.09697591, -0.078232  ,  0.        ,  0.28800346,\n",
       "        -0.25041318,  0.        , -0.07162137, -0.07477764, -0.09697591,\n",
       "         0.        , -0.2328663 , -0.08201998, -0.30882893, -0.07927915,\n",
       "        -0.07477714, -0.08343793,  0.        ,  0.20189287, -0.09697591,\n",
       "         0.15418229,  0.        ,  0.15480342,  0.        , -0.08355966,\n",
       "        -0.08103649,  0.15248856, -0.08745293, -0.07772248,  0.        ,\n",
       "         0.        ,  0.07646467,  0.        , -0.09517283,  0.        ,\n",
       "         0.4012705 ,  0.1294067 , -0.08451406,  0.16112374,  0.38971887,\n",
       "        -0.09604221,  0.1539525 ,  0.08393819, -0.09254636,  0.        ,\n",
       "         0.16397127,  0.        ,  0.        ,  0.        ,  0.12604871,\n",
       "         0.18142099, -0.13333436, -0.06158376,  0.14532958,  0.08348544,\n",
       "        -0.09003634,  0.29800505, -0.07346412,  0.        ,  0.15812904,\n",
       "        -0.08907166, -0.06809326, -0.20224132, -0.07631533,  0.        ,\n",
       "        -0.06230651, -0.07631533, -0.07631533,  0.        , -0.21097633,\n",
       "        -0.07356942,  0.        , -0.05945365,  0.14097234,  0.        ,\n",
       "        -0.07486493, -0.07281593, -0.10541692,  0.        ,  0.13022399,\n",
       "         0.14314264,  0.13021702,  0.1302298 , -0.24907648,  0.14643861,\n",
       "         0.13021702,  0.        ,  0.13021702,  0.        ,  0.        ,\n",
       "         0.13023503,  0.1106615 , -0.05906295, -0.09716775, -0.07011506,\n",
       "         0.07602604, -0.07112365, -0.22940482,  0.16646897, -0.07146098,\n",
       "        -0.06811347, -0.04800549,  0.18476847, -0.19563537, -0.19976892,\n",
       "        -0.05667007, -0.07292831, -0.07435239, -0.06894647, -0.35864291,\n",
       "         0.3263069 , -0.08917735,  0.        ,  0.32538082, -0.06564291,\n",
       "         0.        ,  0.        , -0.06261404, -0.27265837, -0.04090254,\n",
       "         0.        ,  0.        , -0.06675929, -0.05408543, -0.06808171,\n",
       "        -0.07008297, -0.0748321 , -0.20646663, -0.1891189 , -0.0769002 ,\n",
       "         0.        ,  0.27542208, -0.07551634, -0.06385644,  0.16729597,\n",
       "        -0.428232  ,  0.32957713,  0.        , -0.21259487, -0.43639352,\n",
       "         0.32393597, -0.0700961 , -0.06875564, -0.07415644, -0.07211426,\n",
       "         0.17065508,  0.46344585,  0.        , -0.05108692, -0.05686479,\n",
       "        -0.06063173, -0.08897493, -0.07076883, -0.07211916,  0.        ,\n",
       "        -0.0727977 , -0.06876046, -0.08897493, -0.07139588,  0.        ,\n",
       "        -0.07484652, -0.07145512, -0.08897493, -0.08897493, -0.08897493,\n",
       "        -0.08897493,  0.        , -0.06942761, -0.08897493,  0.        ,\n",
       "        -0.08897493, -0.07009707, -0.08897493, -0.08897493, -0.07511827,\n",
       "        -0.07484652, -0.07144287, -0.08897493,  0.        , -0.06643478,\n",
       "        -0.07289995,  0.31544894, -0.07280931,  0.        , -0.06876046,\n",
       "         0.        , -0.20386733, -0.06743321,  0.        , -0.07009707,\n",
       "        -0.06222086, -0.06094272,  0.        , -0.09706211, -0.09706211,\n",
       "         0.        , -0.06546021, -0.41106517, -0.05910148, -0.07551934,\n",
       "        -0.06464719, -0.05085404, -0.07347351,  0.31825595, -0.07143112,\n",
       "        -0.07552183, -0.06874887,  0.32380382,  0.17170097,  0.        ,\n",
       "         0.        , -0.07415644,  0.        , -0.07275336, -0.07374589,\n",
       "        -0.21612124, -0.20124885,  0.        , -0.02437182, -0.11871962,\n",
       "         0.14400202,  0.13023735, -0.07563632, -0.10531995,  0.        ,\n",
       "         0.38476482, -0.06482488, -0.05843424,  0.        ,  0.        ,\n",
       "        -0.04926916, -0.06482488, -0.05843424, -0.06417445,  0.23262176,\n",
       "        -0.2293909 , -0.25915106, -0.21855715, -0.22098707, -0.10532325,\n",
       "         0.        , -0.23189955, -0.10634935,  0.37790934,  0.        ,\n",
       "        -0.09911464,  0.19193999,  0.14399964, -0.07519429, -0.1053205 ,\n",
       "        -0.10521748, -0.08608279, -0.1053216 ,  0.13023677, -0.10532325,\n",
       "         0.04568918,  0.0892547 , -0.06724834, -0.07306659, -0.01216782,\n",
       "        -0.20421586,  0.03378236, -0.05564555,  0.13023503,  0.        ,\n",
       "        -0.10532325,  0.        ,  0.        , -0.08110629,  0.        ,\n",
       "        -0.10532325,  0.01031099, -0.06291106, -0.10532325,  0.        ,\n",
       "        -0.08899438, -0.07069323,  0.        , -0.08408095, -0.0668986 ,\n",
       "        -0.24901605,  0.        , -0.16667118, -0.07695876, -0.10532325,\n",
       "         0.15374686,  0.        ,  0.        ,  0.18854577,  0.        ,\n",
       "        -0.34995936,  0.20216876, -0.19630245, -0.20395605,  0.        ,\n",
       "         0.16362883, -0.06333669, -0.10184256,  0.        , -0.08456082,\n",
       "        -0.08456082,  0.29795121, -0.07431963, -0.08477691, -0.16016259,\n",
       "        -0.07227589, -0.10712235, -0.06554656, -0.06827908, -0.18659723,\n",
       "        -0.20950689, -0.20940349,  0.34046514,  0.        ,  0.        ,\n",
       "         0.13023503, -0.07349674, -0.08899438, -0.05141338, -0.06745096,\n",
       "        -0.07349674, -0.08897514, -0.07693333, -0.08889349, -0.07346708,\n",
       "        -0.06720213, -0.07272134, -0.07374293, -0.07272134, -0.08899438,\n",
       "         0.        , -0.05906171,  0.31544498, -0.05472568, -0.05648173,\n",
       "         0.31636807, -0.08896749, -0.07417975, -0.06298507, -0.18135062,\n",
       "        -0.06871206,  0.        ,  0.        ,  0.32113384, -0.07046327,\n",
       "        -0.05888667, -0.06735891,  0.        ,  0.        , -0.08641973,\n",
       "         0.29500892, -0.06253262, -0.0599831 ,  0.09490746,  0.        ,\n",
       "         0.        , -0.0914954 ,  0.        ,  0.08499882, -0.08570189,\n",
       "         0.16526575,  0.15773039,  0.        ,  0.08317748,  0.43198466,\n",
       "         0.        ,  0.        ,  0.        , -0.42549123,  0.16816775,\n",
       "        -0.41388881, -0.07756459,  0.15282097,  0.07917626,  0.16686791,\n",
       "        -0.08890137, -0.09310993,  0.05031529,  0.        ,  0.13428555,\n",
       "         0.13427152,  0.        ,  0.13709116,  0.        ,  0.05062457,\n",
       "        -0.10746611,  0.13883692, -0.10576787,  0.05718599,  0.21231771,\n",
       "         0.0111049 ,  0.08638284, -0.08088972,  0.        , -0.12166813,\n",
       "         0.        , -0.08385112, -0.1114302 ,  0.05769774,  0.        ,\n",
       "        -0.11105573,  0.13766729, -0.02690846, -0.14365767,  0.0380599 ,\n",
       "        -0.09062048,  0.05979042,  0.3747501 , -0.14365767,  0.        ,\n",
       "         0.18831148,  0.05510292, -0.08787784, -0.03963578,  0.11813021,\n",
       "        -0.15055081,  0.09069578, -0.07296972,  0.17931183, -0.08899438,\n",
       "         0.13932377, -0.15353321, -0.08893132, -0.193161  , -0.07267915,\n",
       "        -0.07487786,  0.32983551,  0.13044479, -0.07825557,  0.16479869,\n",
       "         0.06043309, -0.1194395 ,  0.        ,  0.26149854,  0.14495893,\n",
       "         0.        ,  0.04337547,  0.        , -0.08520676,  0.13955207,\n",
       "        -0.08886827, -0.06212642, -0.07406076, -0.06406149,  0.        ,\n",
       "        -0.07066982,  0.15965026, -0.22940482,  0.        , -0.07416487,\n",
       "        -0.08899438, -0.07340185, -0.07066982,  0.        ,  0.        ,\n",
       "         0.31359965, -0.06745096,  0.3395552 , -0.06406996, -0.07613065,\n",
       "         0.        , -0.07348191,  0.        ,  0.32841381,  0.32748711,\n",
       "         0.3349083 , -0.0661188 ,  0.        , -0.07348191, -0.19931833,\n",
       "         0.10407552,  0.17064467,  0.17149021, -0.20823748,  0.29023032,\n",
       "         0.16686791, -0.08786095, -0.2344767 , -0.27969765, -0.22932768,\n",
       "         0.        , -0.08713943,  0.05366745, -0.40512313, -0.08266363,\n",
       "         0.        ,  0.06381935, -0.09265575,  0.16722247,  0.15418229,\n",
       "        -0.08088972,  0.        ,  0.13082059, -0.0944521 ,  0.1106615 ,\n",
       "         0.        ,  0.        ,  0.13002236, -0.07366116,  0.07974885,\n",
       "         0.        ,  0.04503768, -0.06733111,  0.13341239,  0.05366745,\n",
       "         0.09629722,  0.05202124, -0.07451698,  0.        , -0.07276844,\n",
       "        -0.07335398,  0.0457093 ,  0.05979042,  0.        ,  0.05419689,\n",
       "         0.04912599,  0.03648802,  0.12725032,  0.04902322,  0.0380599 ,\n",
       "        -0.10576787,  0.06675648, -0.07756459,  0.05134462,  0.07965887,\n",
       "         0.        ,  0.04710004,  0.05718599, -0.07808531, -0.09385522,\n",
       "        -0.07351002,  0.21923702,  0.07280143,  0.        ,  0.14131037,\n",
       "         0.        , -0.07435293, -0.08428391, -0.08385112, -0.01119914,\n",
       "         0.        ,  0.1264218 ,  0.14153517, -0.09332869,  0.        ,\n",
       "         0.05607368, -0.110222  , -0.0636326 , -0.06954938,  0.14518305,\n",
       "         0.10134673, -0.19343254,  0.11256749,  0.        ,  0.        ,\n",
       "         0.17527105,  0.04843585,  0.0925981 , -0.03963578,  0.03712142,\n",
       "         0.04568918,  0.12906752, -0.02709038, -0.1041762 , -0.01216782,\n",
       "         0.05769774, -0.18723991, -0.06644098,  0.05062457, -0.1594519 ,\n",
       "         0.04196942,  0.17331935, -0.10746611,  0.15344058,  0.09687125,\n",
       "         0.11813021,  0.06517566,  0.05188729,  0.09347737,  0.13875782,\n",
       "         0.0892547 ,  0.04831778, -0.11871962,  0.        , -0.08265982,\n",
       "         0.17467329,  0.17332857,  0.09778245,  0.0661425 ,  0.11743883,\n",
       "        -0.07306659,  0.0501702 , -0.13222452,  0.12036698, -0.06724834,\n",
       "         0.14727855, -0.08023398,  0.07318167,  0.        ,  0.15965026,\n",
       "         0.08522696,  0.13980033,  0.18854577,  0.14116758,  0.13709116,\n",
       "         0.19003569,  0.        ,  0.06771651,  0.05220868,  0.02898087,\n",
       "         0.        ,  0.05127079,  0.06349204, -0.07147127,  0.05510292,\n",
       "         0.1258537 ,  0.        , -0.07338662, -0.03364975,  0.06976714,\n",
       "        -0.14447719,  0.13190859,  0.03823437, -0.05108692, -0.0831426 ,\n",
       "         0.13330389,  0.06841524, -0.07695876,  0.        , -0.11911021,\n",
       "        -0.07399424]])"
      ]
     },
     "execution_count": 34,
     "metadata": {},
     "output_type": "execute_result"
    }
   ],
   "source": [
    "logit.coef_"
   ]
  },
  {
   "cell_type": "code",
   "execution_count": null,
   "metadata": {},
   "outputs": [],
   "source": []
  },
  {
   "cell_type": "markdown",
   "metadata": {},
   "source": [
    "# Random Forest"
   ]
  },
  {
   "cell_type": "code",
   "execution_count": 18,
   "metadata": {},
   "outputs": [],
   "source": [
    "rf = RandomForestClassifier(max_features = \"auto\", random_state = 11, verbose = True, class_weight = \"balanced\")"
   ]
  },
  {
   "cell_type": "code",
   "execution_count": 19,
   "metadata": {},
   "outputs": [],
   "source": [
    "params = {\n",
    "    \"max_depth\": np.arange(5, 12),\n",
    "    \"min_samples_split\": np.arange(5, 12),\n",
    "    \"oob_score\": [True, False]\n",
    "}\n",
    "best_rf = GridSearchCV(rf, params, n_jobs = -1, verbose = 2)"
   ]
  },
  {
   "cell_type": "code",
   "execution_count": 20,
   "metadata": {},
   "outputs": [
    {
     "name": "stdout",
     "output_type": "stream",
     "text": [
      "Fitting 5 folds for each of 98 candidates, totalling 490 fits\n"
     ]
    },
    {
     "name": "stderr",
     "output_type": "stream",
     "text": [
      "[Parallel(n_jobs=-1)]: Using backend LokyBackend with 8 concurrent workers.\n",
      "[Parallel(n_jobs=-1)]: Done  25 tasks      | elapsed:    6.3s\n",
      "[Parallel(n_jobs=-1)]: Done 146 tasks      | elapsed:   18.5s\n",
      "[Parallel(n_jobs=-1)]: Done 349 tasks      | elapsed:   40.4s\n",
      "[Parallel(n_jobs=-1)]: Done 490 out of 490 | elapsed:   55.8s finished\n",
      "[Parallel(n_jobs=1)]: Using backend SequentialBackend with 1 concurrent workers.\n",
      "[Parallel(n_jobs=1)]: Done 100 out of 100 | elapsed:    0.2s finished\n"
     ]
    },
    {
     "data": {
      "text/plain": [
       "GridSearchCV(cv=None, error_score=nan,\n",
       "             estimator=RandomForestClassifier(bootstrap=True, ccp_alpha=0.0,\n",
       "                                              class_weight='balanced',\n",
       "                                              criterion='gini', max_depth=None,\n",
       "                                              max_features='auto',\n",
       "                                              max_leaf_nodes=None,\n",
       "                                              max_samples=None,\n",
       "                                              min_impurity_decrease=0.0,\n",
       "                                              min_impurity_split=None,\n",
       "                                              min_samples_leaf=1,\n",
       "                                              min_samples_split=2,\n",
       "                                              min_weight_fraction_leaf=0.0,\n",
       "                                              n_estimators=100, n_jobs=None,\n",
       "                                              oob_score=False, random_state=11,\n",
       "                                              verbose=True, warm_start=False),\n",
       "             iid='deprecated', n_jobs=-1,\n",
       "             param_grid={'max_depth': array([ 5,  6,  7,  8,  9, 10, 11]),\n",
       "                         'min_samples_split': array([ 5,  6,  7,  8,  9, 10, 11]),\n",
       "                         'oob_score': [True, False]},\n",
       "             pre_dispatch='2*n_jobs', refit=True, return_train_score=False,\n",
       "             scoring=None, verbose=2)"
      ]
     },
     "execution_count": 20,
     "metadata": {},
     "output_type": "execute_result"
    }
   ],
   "source": [
    "best_rf.fit(X_train, y_train)"
   ]
  },
  {
   "cell_type": "code",
   "execution_count": 21,
   "metadata": {},
   "outputs": [
    {
     "name": "stderr",
     "output_type": "stream",
     "text": [
      "[Parallel(n_jobs=1)]: Using backend SequentialBackend with 1 concurrent workers.\n",
      "[Parallel(n_jobs=1)]: Done 100 out of 100 | elapsed:    0.0s finished\n"
     ]
    },
    {
     "data": {
      "text/plain": [
       "0.8426395939086294"
      ]
     },
     "execution_count": 21,
     "metadata": {},
     "output_type": "execute_result"
    }
   ],
   "source": [
    "accuracy_score(best_rf.predict(X_test), y_test)"
   ]
  },
  {
   "cell_type": "code",
   "execution_count": 22,
   "metadata": {},
   "outputs": [],
   "source": [
    "importance = pd.DataFrame({\"col\": X_train.columns,\n",
    "             \"coef\": best_rf.best_estimator_.feature_importances_}).sort_values(by = \"coef\", ascending = False);"
   ]
  },
  {
   "cell_type": "code",
   "execution_count": 23,
   "metadata": {},
   "outputs": [
    {
     "data": {
      "text/html": [
       "<div>\n",
       "<style scoped>\n",
       "    .dataframe tbody tr th:only-of-type {\n",
       "        vertical-align: middle;\n",
       "    }\n",
       "\n",
       "    .dataframe tbody tr th {\n",
       "        vertical-align: top;\n",
       "    }\n",
       "\n",
       "    .dataframe thead th {\n",
       "        text-align: right;\n",
       "    }\n",
       "</style>\n",
       "<table border=\"1\" class=\"dataframe\">\n",
       "  <thead>\n",
       "    <tr style=\"text-align: right;\">\n",
       "      <th></th>\n",
       "      <th>col</th>\n",
       "      <th>coef</th>\n",
       "    </tr>\n",
       "  </thead>\n",
       "  <tbody>\n",
       "    <tr>\n",
       "      <th>1</th>\n",
       "      <td>Sex</td>\n",
       "      <td>0.243775</td>\n",
       "    </tr>\n",
       "    <tr>\n",
       "      <th>0</th>\n",
       "      <td>Pclass</td>\n",
       "      <td>0.118583</td>\n",
       "    </tr>\n",
       "    <tr>\n",
       "      <th>5</th>\n",
       "      <td>Fare</td>\n",
       "      <td>0.107634</td>\n",
       "    </tr>\n",
       "    <tr>\n",
       "      <th>688</th>\n",
       "      <td>Cabin_-1</td>\n",
       "      <td>0.057108</td>\n",
       "    </tr>\n",
       "    <tr>\n",
       "      <th>2</th>\n",
       "      <td>Age</td>\n",
       "      <td>0.030088</td>\n",
       "    </tr>\n",
       "    <tr>\n",
       "      <th>...</th>\n",
       "      <td>...</td>\n",
       "      <td>...</td>\n",
       "    </tr>\n",
       "    <tr>\n",
       "      <th>299</th>\n",
       "      <td>Ticket_341826</td>\n",
       "      <td>0.000000</td>\n",
       "    </tr>\n",
       "    <tr>\n",
       "      <th>681</th>\n",
       "      <td>Ticket_W./C. 14263</td>\n",
       "      <td>0.000000</td>\n",
       "    </tr>\n",
       "    <tr>\n",
       "      <th>294</th>\n",
       "      <td>Ticket_335097</td>\n",
       "      <td>0.000000</td>\n",
       "    </tr>\n",
       "    <tr>\n",
       "      <th>293</th>\n",
       "      <td>Ticket_334912</td>\n",
       "      <td>0.000000</td>\n",
       "    </tr>\n",
       "    <tr>\n",
       "      <th>654</th>\n",
       "      <td>Ticket_SOTON/O2 3101287</td>\n",
       "      <td>0.000000</td>\n",
       "    </tr>\n",
       "  </tbody>\n",
       "</table>\n",
       "<p>836 rows × 2 columns</p>\n",
       "</div>"
      ],
      "text/plain": [
       "                         col      coef\n",
       "1                        Sex  0.243775\n",
       "0                     Pclass  0.118583\n",
       "5                       Fare  0.107634\n",
       "688                 Cabin_-1  0.057108\n",
       "2                        Age  0.030088\n",
       "..                       ...       ...\n",
       "299            Ticket_341826  0.000000\n",
       "681       Ticket_W./C. 14263  0.000000\n",
       "294            Ticket_335097  0.000000\n",
       "293            Ticket_334912  0.000000\n",
       "654  Ticket_SOTON/O2 3101287  0.000000\n",
       "\n",
       "[836 rows x 2 columns]"
      ]
     },
     "execution_count": 23,
     "metadata": {},
     "output_type": "execute_result"
    }
   ],
   "source": [
    "importance"
   ]
  },
  {
   "cell_type": "markdown",
   "metadata": {},
   "source": [
    "###### As I mentioned in the Analysis, Sex, Pclass and Age are very important features"
   ]
  },
  {
   "cell_type": "markdown",
   "metadata": {},
   "source": [
    "# Finally, Logistic Regression is the best model of classification this data (TSNE gave a hint). Scaling is needed."
   ]
  },
  {
   "cell_type": "code",
   "execution_count": null,
   "metadata": {},
   "outputs": [],
   "source": []
  }
 ],
 "metadata": {
  "kernelspec": {
   "display_name": "Python 3",
   "language": "python",
   "name": "python3"
  },
  "language_info": {
   "codemirror_mode": {
    "name": "ipython",
    "version": 3
   },
   "file_extension": ".py",
   "mimetype": "text/x-python",
   "name": "python",
   "nbconvert_exporter": "python",
   "pygments_lexer": "ipython3",
   "version": "3.6.5"
  }
 },
 "nbformat": 4,
 "nbformat_minor": 4
}
